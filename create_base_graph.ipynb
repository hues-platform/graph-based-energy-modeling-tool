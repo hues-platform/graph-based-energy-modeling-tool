{
 "cells": [
  {
   "cell_type": "code",
   "execution_count": 15,
   "metadata": {},
   "outputs": [],
   "source": [
    "#load packages\n",
    "from neo4j.v1 import GraphDatabase"
   ]
  },
  {
   "cell_type": "code",
   "execution_count": null,
   "metadata": {
    "collapsed": true
   },
   "outputs": [],
   "source": [
    "#launch base.graphdb in neo4j (manually)"
   ]
  },
  {
   "cell_type": "code",
   "execution_count": 16,
   "metadata": {},
   "outputs": [],
   "source": [
    "#create neo4j session\n",
    "\n",
    "driver = GraphDatabase.driver(\"bolt://localhost:7687\", auth=(\"neo4j\", \"password\"))\n",
    "session = driver.session()"
   ]
  },
  {
   "cell_type": "code",
   "execution_count": 17,
   "metadata": {},
   "outputs": [
    {
     "data": {
      "text/plain": [
       "<neo4j.v1.result.BoltStatementResult at 0x82f66a0>"
      ]
     },
     "execution_count": 17,
     "metadata": {},
     "output_type": "execute_result"
    }
   ],
   "source": [
    "#delete existing graph\n",
    "session.run(\"MATCH (n) DETACH DELETE n\")"
   ]
  },
  {
   "cell_type": "code",
   "execution_count": 18,
   "metadata": {},
   "outputs": [
    {
     "data": {
      "text/plain": [
       "<neo4j.v1.result.BoltStatementResult at 0x82cb588>"
      ]
     },
     "execution_count": 18,
     "metadata": {},
     "output_type": "execute_result"
    }
   ],
   "source": [
    "#generate base graph\n",
    "\n",
    "session.run(\n",
    "            \"CREATE(time:Dimension {name:'Time',units:'Hours'}) \"\n",
    "\n",
    "            \"CREATE(electricity_demand:Energy_demand {name:'Electricity demand'}) \"\n",
    "            \"CREATE(heat_demand:Energy_demand {name:'Heat demand'}) \"\n",
    "            \"CREATE(solar_radiation_inputs:Energy_inputs {name:'Solar radiation'}) \"\n",
    "\n",
    "            \"CREATE(heat:Energy_carrier {name:'Heat'}) \"\n",
    "            \"CREATE(electricity:Energy_carrier {name:'Electricity'}) \"\n",
    "            \"CREATE(gas:Energy_carrier {name:'Gas'}) \"\n",
    "            \"CREATE(solar_radiation:Energy_carrier {name:'Solar radiation'}) \"\n",
    "\n",
    "            \"CREATE(energy_system {name:'Energy system'}) \"\n",
    "\n",
    "            \"CREATE(pv_array:Energy_conversion_technology {name:'PV array'}) \"\n",
    "            \"CREATE(gshp:Energy_conversion_technology {name:'GSHP'}) \"\n",
    "            \"CREATE(gas_boiler:Energy_conversion_technology {name:'Gas boiler'}) \"\n",
    "            \"CREATE(battery:Energy_storage_technology {name:'Battery'}) \"\n",
    "            \"CREATE(hot_water_tank:Energy_storage_technology {name:'Hot water tank'}) \"\n",
    "            \"CREATE(electricity_grid:Energy_grid_technology {name:'Electricity grid'}) \"\n",
    "            \"CREATE(gas_grid:Energy_grid_technology {name:'Gas grid'}) \"\n",
    "\n",
    "            \"CREATE(conversion_efficiency:Technology_property {name:'Conversion efficiency'}) \"\n",
    "            \"CREATE(generation_capacity:Technology_property {name:'Generation capacity'}) \"\n",
    "            \"CREATE(standing_losses:Technology_property {name:'Standing losses'}) \"\n",
    "            \"CREATE(charging_efficiency:Technology_property {name:'Charging efficiency'}) \"\n",
    "            \"CREATE(discharging_efficiency:Technology_property {name:'Discharging efficiency'}) \"\n",
    "            \"CREATE(storage_capacity:Technology_property {name:'Storage capacity'}) \"\n",
    "            \n",
    "            \"CREATE(system_operational_cost:System_variable {name:'System operational cost'}) \"\n",
    "            \"CREATE(total_operational_cost:System_variable {name:'Total operational cost'}) \"\n",
    "            \"CREATE(technology_operational_cost:Technology_variable {name:'Operational cost'}) \"\n",
    "            \"CREATE(input_energy:Technology_variable {name:'Input energy'}) \"\n",
    "            \"CREATE(output_energy:Technology_variable {name:'Output energy'}) \"\n",
    "            \"CREATE(output_energy_storage:Technology_variable {name:'Output energy storage'}) \"\n",
    "\n",
    "            \"CREATE(electricity_price:Energy_price {name:'Electricity price'}) \"\n",
    "            \"CREATE(gas_price:Energy_price {name:'Gas price'}) \"\n",
    "\n",
    "            \"CREATE(energy_balance_constraint:Equation {name:'Energy balance constraint'}) \"\n",
    "            \"CREATE(conversion_technology_capacity_constraint:Equation {name:'Capacity constraint'}) \"\n",
    "            \"CREATE(storage_technology_capacity_constraint:Equation {name:'Capacity constraint'}) \"\n",
    "            \"CREATE(storage_technology_continuity_constraint:Equation {name:'Continuity constraint'}) \"\n",
    "\n",
    "            \"CREATE (pv_array)-[:has_property]->(conversion_efficiency) \"\n",
    "            \"CREATE (gshp)-[:has_property]->(conversion_efficiency) \"\n",
    "            \"CREATE (gas_boiler)-[:has_property]->(conversion_efficiency) \"\n",
    "            \"CREATE (electricity_grid)-[:has_property]->(conversion_efficiency) \"\n",
    "            \"CREATE (gas_grid)-[:has_property]->(conversion_efficiency) \"\n",
    "            \"CREATE (pv_array)-[:has_property]->(generation_capacity) \"\n",
    "            \"CREATE (gshp)-[:has_property]->(generation_capacity) \"\n",
    "            \"CREATE (gas_boiler)-[:has_property]->(generation_capacity) \"\n",
    "            \"CREATE (electricity_grid)-[:has_property]->(generation_capacity) \"\n",
    "            \"CREATE (gas_grid)-[:has_property]->(generation_capacity) \"\n",
    "            \"CREATE (electricity_grid)-[:has_property]->(electricity_price) \"\n",
    "            \"CREATE (gas_grid)-[:has_property]->(gas_price) \"\n",
    "            \"CREATE (battery)-[:has_property]->(charging_efficiency) \"\n",
    "            \"CREATE (hot_water_tank)-[:has_property]->(charging_efficiency) \"\n",
    "            \"CREATE (battery)-[:has_property]->(discharging_efficiency) \"\n",
    "            \"CREATE (hot_water_tank)-[:has_property]->(discharging_efficiency) \"\n",
    "            \"CREATE (battery)-[:has_property]->(storage_capacity) \"\n",
    "            \"CREATE (hot_water_tank)-[:has_property]->(storage_capacity) \"\n",
    "            \"CREATE (battery)-[:has_property]->(standing_losses) \"\n",
    "            \"CREATE (hot_water_tank)-[:has_property]->(standing_losses) \"\n",
    "\n",
    "            \"CREATE (energy_system)-[:has_constraint]->(energy_balance_constraint) \"\n",
    "            \"CREATE (pv_array)-[:has_constraint]->(conversion_technology_capacity_constraint) \"\n",
    "            \"CREATE (gshp)-[:has_constraint]->(conversion_technology_capacity_constraint) \"\n",
    "            \"CREATE (gas_boiler)-[:has_constraint]->(conversion_technology_capacity_constraint) \"\n",
    "            \"CREATE (electricity_grid)-[:has_constraint]->(conversion_technology_capacity_constraint) \"\n",
    "            \"CREATE (gas_grid)-[:has_constraint]->(conversion_technology_capacity_constraint) \"\n",
    "            \"CREATE (battery)-[:has_constraint]->(storage_technology_capacity_constraint) \"\n",
    "            \"CREATE (hot_water_tank)-[:has_constraint]->(storage_technology_capacity_constraint) \"\n",
    "            \"CREATE (battery)-[:has_constraint]->(storage_technology_continuity_constraint) \"\n",
    "            \"CREATE (hot_water_tank)-[:has_constraint]->(storage_technology_continuity_constraint) \"\n",
    "\n",
    "            \"CREATE (pv_array)-[:consumes]->(solar_radiation) \"\n",
    "            \"CREATE (gshp)-[:consumes]->(electricity) \"\n",
    "            \"CREATE (gas_boiler)-[:consumes]->(gas) \"\n",
    "            \"CREATE (pv_array)-[:outputs]->(electricity) \"\n",
    "            \"CREATE (gshp)-[:outputs]->(heat) \"\n",
    "            \"CREATE (gas_boiler)-[:outputs]->(heat) \"\n",
    "            \"CREATE (electricity_grid)-[:outputs]->(electricity) \"\n",
    "            \"CREATE (gas_grid)-[:outputs]->(gas) \"\n",
    "            \"CREATE (battery)-[:stores]->(heat) \"\n",
    "            \"CREATE (hot_water_tank)-[:stores]->(heat) \"\n",
    "\n",
    "            \"CREATE (energy_system)-[:has_variable]->(system_operational_cost) \"\n",
    "            \"CREATE (energy_system)-[:has_variable]->(total_operational_cost) \"\n",
    "            \"CREATE (pv_array)-[:has_variable]->(technology_operational_cost) \"\n",
    "            \"CREATE (gshp)-[:has_variable]->(technology_operational_cost) \"\n",
    "            \"CREATE (gas_boiler)-[:has_variable]->(technology_operational_cost) \"\n",
    "            \"CREATE (pv_array)-[:has_variable]->(input_energy) \"\n",
    "            \"CREATE (gshp)-[:has_variable]->(input_energy) \"\n",
    "            \"CREATE (gas_boiler)-[:has_variable]->(input_energy) \"\n",
    "            \"CREATE (pv_array)-[:has_variable]->(output_energy) \"\n",
    "            \"CREATE (gshp)-[:has_variable]->(output_energy) \"\n",
    "            \"CREATE (gas_boiler)-[:has_variable]->(output_energy) \"\n",
    "            \"CREATE (electricity_grid)-[:has_variable]->(output_energy) \"\n",
    "            \"CREATE (gas_grid)-[:has_variable]->(output_energy) \"\n",
    "            \"CREATE (battery)-[:has_variable]->(output_energy_storage) \"\n",
    "            \"CREATE (hot_water_tank)-[:has_variable]->(output_energy_storage) \"\n",
    "\n",
    "            \"CREATE(electricity_demand)-[:has_dimension]->(time) \"\n",
    "            \"CREATE(heat_demand)-[:has_dimension]->(time) \"\n",
    "\n",
    "            \"CREATE(solar_radiation_inputs)-[:has_dimension]->(time) \"\n",
    "            \"CREATE(system_operational_cost)-[:has_dimension]->(time) \"\n",
    "            \"CREATE(technology_operational_cost)-[:has_dimension]->(time) \"\n",
    "\n",
    "            \"CREATE(input_energy)-[:has_dimension]->(time) \"\n",
    "            \"CREATE(output_energy)-[:has_dimension]->(time) \"\n",
    "            \"CREATE(output_energy_storage)-[:has_dimension]->(time) \"\n",
    "            )"
   ]
  }
 ],
 "metadata": {
  "kernelspec": {
   "display_name": "Python 3",
   "language": "python",
   "name": "python3"
  },
  "language_info": {
   "codemirror_mode": {
    "name": "ipython",
    "version": 3
   },
   "file_extension": ".py",
   "mimetype": "text/x-python",
   "name": "python",
   "nbconvert_exporter": "python",
   "pygments_lexer": "ipython3",
   "version": "3.6.1"
  }
 },
 "nbformat": 4,
 "nbformat_minor": 2
}
