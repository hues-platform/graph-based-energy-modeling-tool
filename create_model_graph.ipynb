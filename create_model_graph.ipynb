{
 "cells": [
  {
   "cell_type": "code",
   "execution_count": 1,
   "metadata": {
    "collapsed": true
   },
   "outputs": [],
   "source": [
    "#load packages\n",
    "from neo4j.v1 import GraphDatabase"
   ]
  },
  {
   "cell_type": "code",
   "execution_count": 5,
   "metadata": {},
   "outputs": [],
   "source": [
    "#create copy of base.graphdb called model.graphdb (manually)"
   ]
  },
  {
   "cell_type": "code",
   "execution_count": null,
   "metadata": {
    "collapsed": true
   },
   "outputs": [],
   "source": [
    "#create neo4j session\n",
    "\n",
    "driver = GraphDatabase.driver(\"bolt://localhost:7687\", auth=(\"neo4j\", \"password\"))\n",
    "session = driver.session()"
   ]
  },
  {
   "cell_type": "code",
   "execution_count": null,
   "metadata": {
    "collapsed": true
   },
   "outputs": [],
   "source": [
    "#augment graph depending on selected options\n",
    "\n",
    "#select options\n",
    "\n",
    "#augment graph based on selected options"
   ]
  },
  {
   "cell_type": "code",
   "execution_count": null,
   "metadata": {
    "collapsed": true
   },
   "outputs": [],
   "source": [
    "#augment graph with case data\n",
    "\n",
    "#select case\n",
    "current_case = 'generic_case'\n",
    "\n",
    "#load case files\n",
    "\n",
    "#write case data to graph\n"
   ]
  },
  {
   "cell_type": "code",
   "execution_count": null,
   "metadata": {
    "collapsed": true
   },
   "outputs": [],
   "source": [
    "#augment graph with technology data\n",
    "\n",
    "#select technologies\n",
    "conversion_technologies = ['pv_array','gshp','gas_boiler']\n",
    "storage_technologies = ['battery','hot_water_tank']\n",
    "grid_technologies = ['electricity_grid','gas_grid']\n",
    "\n",
    "#load technology files\n",
    "\n",
    "#write technology data to graph\n"
   ]
  },
  {
   "cell_type": "code",
   "execution_count": null,
   "metadata": {
    "collapsed": true
   },
   "outputs": [],
   "source": [
    "#augment graph with optimization objective\n",
    "\n",
    "#select objective\n",
    "variable_to_optimize = 'total_operational_cost'\n",
    "direction_to_optimize = 'minimize'\n",
    "\n",
    "#write objective to graph\n"
   ]
  }
 ],
 "metadata": {
  "kernelspec": {
   "display_name": "Python 3",
   "language": "python",
   "name": "python3"
  },
  "language_info": {
   "codemirror_mode": {
    "name": "ipython",
    "version": 3
   },
   "file_extension": ".py",
   "mimetype": "text/x-python",
   "name": "python",
   "nbconvert_exporter": "python",
   "pygments_lexer": "ipython3",
   "version": "3.6.1"
  }
 },
 "nbformat": 4,
 "nbformat_minor": 2
}
